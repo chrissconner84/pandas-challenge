{
 "cells": [
  {
   "cell_type": "code",
   "execution_count": 1,
   "metadata": {},
   "outputs": [],
   "source": [
    "# Dependencies and Setup\n",
    "import pandas as pd\n",
    "\n",
    "# File to Load (Remember to Change These)\n",
    "file_to_load = \"Resources/purchase_data.csv\"\n",
    "\n",
    "# Read Purchasing File and store into Pandas data frame\n",
    "purchase_data = pd.read_csv(file_to_load)"
   ]
  },
  {
   "cell_type": "markdown",
   "metadata": {},
   "source": [
    "## Player Count"
   ]
  },
  {
   "cell_type": "markdown",
   "metadata": {},
   "source": [
    "* Display the total number of players\n"
   ]
  },
  {
   "cell_type": "code",
   "execution_count": 2,
   "metadata": {},
   "outputs": [
    {
     "name": "stdout",
     "output_type": "stream",
     "text": [
      "The total number of players are 576\n"
     ]
    }
   ],
   "source": [
    "#Create the initial data frame\n",
    "pf=pd.DataFrame(purchase_data)\n",
    "players=len(pf['SN'].unique())\n",
    "player_data=(pf['SN'].unique())\n",
    "\n",
    "print(f'The total number of players are {players}')\n",
    "\n",
    "#player_data"
   ]
  },
  {
   "cell_type": "code",
   "execution_count": 3,
   "metadata": {},
   "outputs": [
    {
     "data": {
      "text/html": [
       "<div>\n",
       "<style scoped>\n",
       "    .dataframe tbody tr th:only-of-type {\n",
       "        vertical-align: middle;\n",
       "    }\n",
       "\n",
       "    .dataframe tbody tr th {\n",
       "        vertical-align: top;\n",
       "    }\n",
       "\n",
       "    .dataframe thead th {\n",
       "        text-align: right;\n",
       "    }\n",
       "</style>\n",
       "<table border=\"1\" class=\"dataframe\">\n",
       "  <thead>\n",
       "    <tr style=\"text-align: right;\">\n",
       "      <th></th>\n",
       "      <th>Purchase ID</th>\n",
       "      <th>SN</th>\n",
       "      <th>Age</th>\n",
       "      <th>Gender</th>\n",
       "      <th>Item ID</th>\n",
       "      <th>Item Name</th>\n",
       "      <th>Price</th>\n",
       "    </tr>\n",
       "  </thead>\n",
       "  <tbody>\n",
       "    <tr>\n",
       "      <th>0</th>\n",
       "      <td>0</td>\n",
       "      <td>Lisim78</td>\n",
       "      <td>20</td>\n",
       "      <td>Male</td>\n",
       "      <td>108</td>\n",
       "      <td>Extraction, Quickblade Of Trembling Hands</td>\n",
       "      <td>3.53</td>\n",
       "    </tr>\n",
       "    <tr>\n",
       "      <th>1</th>\n",
       "      <td>1</td>\n",
       "      <td>Lisovynya38</td>\n",
       "      <td>40</td>\n",
       "      <td>Male</td>\n",
       "      <td>143</td>\n",
       "      <td>Frenzied Scimitar</td>\n",
       "      <td>1.56</td>\n",
       "    </tr>\n",
       "    <tr>\n",
       "      <th>2</th>\n",
       "      <td>2</td>\n",
       "      <td>Ithergue48</td>\n",
       "      <td>24</td>\n",
       "      <td>Male</td>\n",
       "      <td>92</td>\n",
       "      <td>Final Critic</td>\n",
       "      <td>4.88</td>\n",
       "    </tr>\n",
       "    <tr>\n",
       "      <th>3</th>\n",
       "      <td>3</td>\n",
       "      <td>Chamassasya86</td>\n",
       "      <td>24</td>\n",
       "      <td>Male</td>\n",
       "      <td>100</td>\n",
       "      <td>Blindscythe</td>\n",
       "      <td>3.27</td>\n",
       "    </tr>\n",
       "    <tr>\n",
       "      <th>4</th>\n",
       "      <td>4</td>\n",
       "      <td>Iskosia90</td>\n",
       "      <td>23</td>\n",
       "      <td>Male</td>\n",
       "      <td>131</td>\n",
       "      <td>Fury</td>\n",
       "      <td>1.44</td>\n",
       "    </tr>\n",
       "  </tbody>\n",
       "</table>\n",
       "</div>"
      ],
      "text/plain": [
       "   Purchase ID             SN  Age Gender  Item ID  \\\n",
       "0            0        Lisim78   20   Male      108   \n",
       "1            1    Lisovynya38   40   Male      143   \n",
       "2            2     Ithergue48   24   Male       92   \n",
       "3            3  Chamassasya86   24   Male      100   \n",
       "4            4      Iskosia90   23   Male      131   \n",
       "\n",
       "                                   Item Name  Price  \n",
       "0  Extraction, Quickblade Of Trembling Hands   3.53  \n",
       "1                          Frenzied Scimitar   1.56  \n",
       "2                               Final Critic   4.88  \n",
       "3                                Blindscythe   3.27  \n",
       "4                                       Fury   1.44  "
      ]
     },
     "execution_count": 3,
     "metadata": {},
     "output_type": "execute_result"
    }
   ],
   "source": [
    "#Show first rows 5 for headers\n",
    "pf.head()"
   ]
  },
  {
   "cell_type": "code",
   "execution_count": 4,
   "metadata": {},
   "outputs": [
    {
     "data": {
      "text/html": [
       "<div>\n",
       "<style scoped>\n",
       "    .dataframe tbody tr th:only-of-type {\n",
       "        vertical-align: middle;\n",
       "    }\n",
       "\n",
       "    .dataframe tbody tr th {\n",
       "        vertical-align: top;\n",
       "    }\n",
       "\n",
       "    .dataframe thead th {\n",
       "        text-align: right;\n",
       "    }\n",
       "</style>\n",
       "<table border=\"1\" class=\"dataframe\">\n",
       "  <thead>\n",
       "    <tr style=\"text-align: right;\">\n",
       "      <th></th>\n",
       "      <th>Purchase ID</th>\n",
       "      <th>SN</th>\n",
       "      <th>Age</th>\n",
       "      <th>Gender</th>\n",
       "      <th>Item ID</th>\n",
       "      <th>Item Name</th>\n",
       "      <th>Price</th>\n",
       "    </tr>\n",
       "  </thead>\n",
       "  <tbody>\n",
       "    <tr>\n",
       "      <th>775</th>\n",
       "      <td>775</td>\n",
       "      <td>Aethedru70</td>\n",
       "      <td>21</td>\n",
       "      <td>Female</td>\n",
       "      <td>60</td>\n",
       "      <td>Wolf</td>\n",
       "      <td>3.54</td>\n",
       "    </tr>\n",
       "    <tr>\n",
       "      <th>776</th>\n",
       "      <td>776</td>\n",
       "      <td>Iral74</td>\n",
       "      <td>21</td>\n",
       "      <td>Male</td>\n",
       "      <td>164</td>\n",
       "      <td>Exiled Doomblade</td>\n",
       "      <td>1.63</td>\n",
       "    </tr>\n",
       "    <tr>\n",
       "      <th>777</th>\n",
       "      <td>777</td>\n",
       "      <td>Yathecal72</td>\n",
       "      <td>20</td>\n",
       "      <td>Male</td>\n",
       "      <td>67</td>\n",
       "      <td>Celeste, Incarnation of the Corrupted</td>\n",
       "      <td>3.46</td>\n",
       "    </tr>\n",
       "    <tr>\n",
       "      <th>778</th>\n",
       "      <td>778</td>\n",
       "      <td>Sisur91</td>\n",
       "      <td>7</td>\n",
       "      <td>Male</td>\n",
       "      <td>92</td>\n",
       "      <td>Final Critic</td>\n",
       "      <td>4.19</td>\n",
       "    </tr>\n",
       "    <tr>\n",
       "      <th>779</th>\n",
       "      <td>779</td>\n",
       "      <td>Ennrian78</td>\n",
       "      <td>24</td>\n",
       "      <td>Male</td>\n",
       "      <td>50</td>\n",
       "      <td>Dawn</td>\n",
       "      <td>4.60</td>\n",
       "    </tr>\n",
       "  </tbody>\n",
       "</table>\n",
       "</div>"
      ],
      "text/plain": [
       "     Purchase ID          SN  Age  Gender  Item ID  \\\n",
       "775          775  Aethedru70   21  Female       60   \n",
       "776          776      Iral74   21    Male      164   \n",
       "777          777  Yathecal72   20    Male       67   \n",
       "778          778     Sisur91    7    Male       92   \n",
       "779          779   Ennrian78   24    Male       50   \n",
       "\n",
       "                                 Item Name  Price  \n",
       "775                                   Wolf   3.54  \n",
       "776                       Exiled Doomblade   1.63  \n",
       "777  Celeste, Incarnation of the Corrupted   3.46  \n",
       "778                           Final Critic   4.19  \n",
       "779                                   Dawn   4.60  "
      ]
     },
     "execution_count": 4,
     "metadata": {},
     "output_type": "execute_result"
    }
   ],
   "source": [
    "#Show last 5 rows for total\n",
    "pf.tail()"
   ]
  },
  {
   "cell_type": "markdown",
   "metadata": {},
   "source": [
    "## Purchasing Analysis (Total)"
   ]
  },
  {
   "cell_type": "markdown",
   "metadata": {},
   "source": [
    "* Run basic calculations to obtain number of unique items, average price, etc.\n",
    "\n",
    "\n",
    "* Create a summary data frame to hold the results\n",
    "\n",
    "\n",
    "* Optional: give the displayed data cleaner formatting\n",
    "\n",
    "\n",
    "* Display the summary data frame\n"
   ]
  },
  {
   "cell_type": "code",
   "execution_count": 5,
   "metadata": {
    "scrolled": true
   },
   "outputs": [
    {
     "name": "stdout",
     "output_type": "stream",
     "text": [
      "There are 179 items available in the game for purchase\n",
      "The average purchase price is $3.05\n",
      "There were 780 total purchases\n",
      "The total revenue was $2379.77\n"
     ]
    }
   ],
   "source": [
    "unique_items=len(pf['Item ID'].unique())\n",
    "avg_purchase_price=round(pf['Price'].mean(),2)\n",
    "total_purchases=pf['SN'].count()\n",
    "total_revenue=round(pf['Price'].sum(),2)\n",
    "print(f'There are {unique_items} items available in the game for purchase')\n",
    "print(f'The average purchase price is ${avg_purchase_price}')\n",
    "print(f'There were {total_purchases} total purchases')\n",
    "print(f'The total revenue was ${total_revenue}')"
   ]
  },
  {
   "cell_type": "code",
   "execution_count": 6,
   "metadata": {},
   "outputs": [
    {
     "data": {
      "text/html": [
       "<div>\n",
       "<style scoped>\n",
       "    .dataframe tbody tr th:only-of-type {\n",
       "        vertical-align: middle;\n",
       "    }\n",
       "\n",
       "    .dataframe tbody tr th {\n",
       "        vertical-align: top;\n",
       "    }\n",
       "\n",
       "    .dataframe thead th {\n",
       "        text-align: right;\n",
       "    }\n",
       "</style>\n",
       "<table border=\"1\" class=\"dataframe\">\n",
       "  <thead>\n",
       "    <tr style=\"text-align: right;\">\n",
       "      <th></th>\n",
       "      <th>Unique Items</th>\n",
       "      <th>Average Purchase Price</th>\n",
       "      <th>Total Purchases</th>\n",
       "      <th>Total Revenue</th>\n",
       "    </tr>\n",
       "  </thead>\n",
       "  <tbody>\n",
       "    <tr>\n",
       "      <th>0</th>\n",
       "      <td>179</td>\n",
       "      <td>3.05</td>\n",
       "      <td>780</td>\n",
       "      <td>2379.77</td>\n",
       "    </tr>\n",
       "  </tbody>\n",
       "</table>\n",
       "</div>"
      ],
      "text/plain": [
       "   Unique Items  Average Purchase Price  Total Purchases  Total Revenue\n",
       "0           179                    3.05              780        2379.77"
      ]
     },
     "execution_count": 6,
     "metadata": {},
     "output_type": "execute_result"
    }
   ],
   "source": [
    "sum={'Unique Items':[unique_items],\n",
    "                     'Average Purchase Price':[avg_purchase_price],\n",
    "                     'Total Purchases':[total_purchases],'Total Revenue':[total_revenue]}\n",
    "sum_pf=pd.DataFrame(sum)\n",
    "sum_pf"
   ]
  },
  {
   "cell_type": "markdown",
   "metadata": {},
   "source": [
    "## Gender Demographics"
   ]
  },
  {
   "cell_type": "markdown",
   "metadata": {},
   "source": [
    "* Percentage and Count of Male Players\n",
    "\n",
    "\n",
    "* Percentage and Count of Female Players\n",
    "\n",
    "\n",
    "* Percentage and Count of Other / Non-Disclosed\n",
    "\n",
    "\n"
   ]
  },
  {
   "cell_type": "code",
   "execution_count": 7,
   "metadata": {},
   "outputs": [
    {
     "name": "stdout",
     "output_type": "stream",
     "text": [
      "There are 484 male players out of 576 players\n",
      "There are 81 female players out of 576 players\n",
      "There are 11 players who did not specify gender out of 576 players\n",
      "The male percentage is 0.84\n",
      "There are 81 female players\n",
      "The female perentage is 0.14\n",
      "The other/non-disclosed percentage is 0.02\n"
     ]
    }
   ],
   "source": [
    "players_df=pf.loc[:,['SN','Gender']]\n",
    "unique_players_df=players_df.drop_duplicates()\n",
    "unique_players=len(unique_players_df)\n",
    "gtypes=players_df['Gender'].unique()\n",
    "males=len(unique_players_df.loc[unique_players_df['Gender']=='Male',:])\n",
    "females=len(unique_players_df.loc[unique_players_df['Gender']=='Female',:])\n",
    "other=len(unique_players_df.loc[unique_players_df['Gender']=='Other / Non-Disclosed',:])\n",
    "print(f'There are {males} male players out of {unique_players} players')\n",
    "print(f'There are {females} female players out of {unique_players} players')\n",
    "print(f'There are {other} players who did not specify gender out of {unique_players} players')\n",
    "male_percent=round(males/unique_players,2)\n",
    "print(f'The male percentage is {male_percent}')\n",
    "female_percent=round(females/unique_players,2)\n",
    "other_percent=round(other/unique_players,2)\n",
    "print(f'There are {females} female players')\n",
    "print(f'The female perentage is {female_percent}')\n",
    "print(f'The other/non-disclosed percentage is {other_percent}')\n",
    "      "
   ]
  },
  {
   "cell_type": "markdown",
   "metadata": {},
   "source": [
    "\n",
    "## Purchasing Analysis (Gender)"
   ]
  },
  {
   "cell_type": "markdown",
   "metadata": {},
   "source": [
    "* Run basic calculations to obtain purchase count, avg. purchase price, avg. purchase total per person etc. by gender\n",
    "\n",
    "\n",
    "\n",
    "\n",
    "* Create a summary data frame to hold the results\n",
    "\n",
    "\n",
    "* Optional: give the displayed data cleaner formatting\n",
    "\n",
    "\n",
    "* Display the summary data frame"
   ]
  },
  {
   "cell_type": "code",
   "execution_count": 28,
   "metadata": {},
   "outputs": [
    {
     "name": "stdout",
     "output_type": "stream",
     "text": [
      "There were 652 purchases totaling $1967.64 by males at an average of $3.02\n",
      "There were 113 purchases totaling $361.94 by females at an average of $3.20\n",
      "There were 15 purchases totaling $50.19 by customers who did not disclose their gender at an average of $3.35\n"
     ]
    }
   ],
   "source": [
    "#males made X numbers of purchases at an average price of y across average number of purchases\n",
    "#Count up total purchase for males only\n",
    "#Sum up total purchase dollars for males only then divide by male only purchases\n",
    "#Count individual purchase for each male\n",
    "male_purchases=len(pf.loc[pf['Gender']=='Male',:])\n",
    "m_purch_total=pf.loc[pf['Gender']=='Male','Price'].sum()\n",
    "m_app=round(m_purch_total/male_purchases,2)\n",
    "print(f'There were {male_purchases} purchases totaling ${m_purch_total} by males at an average of ${m_app}')\n",
    "female_purchases=len(pf.loc[pf['Gender']=='Female',:])\n",
    "f_purch_total=pf.loc[pf['Gender']=='Female','Price'].sum()\n",
    "f_app=round(f_purch_total/female_purchases,2)\n",
    "print(f'There were {female_purchases} purchases totaling ${f_purch_total} by females at an average of ${f_app}0')\n",
    "other_purchases=len(pf.loc[pf['Gender']=='Other / Non-Disclosed',:])\n",
    "o_purch_total=pf.loc[pf['Gender']=='Other / Non-Disclosed','Price'].sum()\n",
    "o_app=round(o_purch_total/other_purchases,2)\n",
    "print(f'There were {other_purchases} purchases totaling ${o_purch_total} by customers who did not disclose their gender at an average of ${o_app}')"
   ]
  },
  {
   "cell_type": "markdown",
   "metadata": {},
   "source": [
    "## Age Demographics"
   ]
  },
  {
   "cell_type": "markdown",
   "metadata": {},
   "source": [
    "* Establish bins for ages\n",
    "\n",
    "\n",
    "* Categorize the existing players using the age bins. Hint: use pd.cut()\n",
    "\n",
    "\n",
    "* Calculate the numbers and percentages by age group\n",
    "\n",
    "\n",
    "* Create a summary data frame to hold the results\n",
    "\n",
    "\n",
    "* Optional: round the percentage column to two decimal points\n",
    "\n",
    "\n",
    "* Display Age Demographics Table\n"
   ]
  },
  {
   "cell_type": "code",
   "execution_count": 39,
   "metadata": {},
   "outputs": [
    {
     "name": "stdout",
     "output_type": "stream",
     "text": [
      "There were 32 purchases of 780 total purchases which is 0.04 by players less than 10\n",
      "There were 19 purchases of 780 total purchases which is 0.02 by players between 10 and 14\n",
      "There were 136 purchases of 780 total purchases which is 0.17 by players between 15 and 19\n",
      "There were 365 purchases of 780 total purchases which is 0.47 by players between 20 and 24\n",
      "There were 101 purchases of 780 total purchases which is 0.13 by players between 25 and 29\n",
      "There were 73 purchases of 780 total purchases which is 0.09 by players between 30 and 34\n",
      "There were 41 purchases of 780 total purchases which is 0.05 by players between 35 and 39\n",
      "There were 13 purchases of 780 total purchases which is 0.02 by players over 40\n"
     ]
    }
   ],
   "source": [
    "# Create the bins in which Data will be held\n",
    "# Bins are 0 10 <14,<19,<24,<29,<34,<39, and > 40   \n",
    "bins = [0,10,14,19,24,29,34,39,100]\n",
    "# Create the names for the age bins\n",
    "group_names = [\"10 or less\", \"10 to 14\", \"15 to 19\", \"20 to 24\", \"25 to 29\",\"30 to 34\",\"35 to 39\", \"Over 40\"]\n",
    "pf[\"Age Group\"] = pd.cut(pf[\"Age\"], bins, labels=group_names, include_lowest=True)\n",
    "#Calculate total purchase and percentage of purchases per age group\n",
    "less10_count=len(pf.loc[pf['Age Group']=='10 or less',:])\n",
    "less10_percent=round(less10_count/total_purchases,2)\n",
    "between10to14_count=len(pf.loc[pf['Age Group']=='10 to 14',:])\n",
    "between10to14_percent=round(between10to14_count/total_purchases,2)\n",
    "between15to19_count=len(pf.loc[pf['Age Group']=='15 to 19',:])\n",
    "between15to19_percent=round(between15to19_count/total_purchases,2)\n",
    "between20to24_count=len(pf.loc[pf['Age Group']=='20 to 24',:])\n",
    "between20to24_percent=round(between20to24_count/total_purchases,2)\n",
    "between25to29_count=len(pf.loc[pf['Age Group']=='25 to 29',:])\n",
    "between25to29_percent=round(between25to29_count/total_purchases,2)\n",
    "between30to34_count=len(pf.loc[pf['Age Group']=='30 to 34',:])\n",
    "between30to34_percent=round(between30to34_count/total_purchases,2)\n",
    "between35to39_count=len(pf.loc[pf['Age Group']=='35 to 39',:])\n",
    "between35to39_percent=round(between35to39_count/total_purchases,2)\n",
    "over40_count=len(pf.loc[pf['Age Group']=='Over 40',:])\n",
    "over40_percent=round(over40_count/total_purchases,2)\n",
    "print(f'There were {less10_count} purchases of {total_purchases} total purchases which is {less10_percent} by players less than 10')\n",
    "print(f'There were {between10to14_count} purchases of {total_purchases} total purchases which is {between10to14_percent} by players between 10 and 14')\n",
    "print(f'There were {between15to19_count} purchases of {total_purchases} total purchases which is {between15to19_percent} by players between 15 and 19')\n",
    "print(f'There were {between20to24_count} purchases of {total_purchases} total purchases which is {between20to24_percent} by players between 20 and 24')\n",
    "print(f'There were {between25to29_count} purchases of {total_purchases} total purchases which is {between25to29_percent} by players between 25 and 29')\n",
    "print(f'There were {between30to34_count} purchases of {total_purchases} total purchases which is {between30to34_percent} by players between 30 and 34')\n",
    "print(f'There were {between35to39_count} purchases of {total_purchases} total purchases which is {between35to39_percent} by players between 35 and 39')\n",
    "print(f'There were {over40_count} purchases of {total_purchases} total purchases which is {over40_percent} by players over 40')"
   ]
  },
  {
   "cell_type": "markdown",
   "metadata": {},
   "source": [
    "## Purchasing Analysis (Age)"
   ]
  },
  {
   "cell_type": "markdown",
   "metadata": {},
   "source": [
    "* Bin the purchase_data data frame by age\n",
    "\n",
    "\n",
    "* Run basic calculations to obtain purchase count, avg. purchase price, avg. purchase total per person etc. in the table below\n",
    "\n",
    "\n",
    "* Create a summary data frame to hold the results\n",
    "\n",
    "\n",
    "* Optional: give the displayed data cleaner formatting\n",
    "\n",
    "\n",
    "* Display the summary data frame"
   ]
  },
  {
   "cell_type": "code",
   "execution_count": 48,
   "metadata": {},
   "outputs": [
    {
     "name": "stdout",
     "output_type": "stream",
     "text": [
      "There were 32 purchases totaling $108.96 by players less than 10 at an average of $3.4\n",
      "There were 19 purchases totaling $50.95 by players between 10-14 at an average  $1.59\n",
      "There were 136 purchases totaling $412.89 by players between 15-19 at an average  $3.04\n",
      "There were 365 purchases totaling $1114.06 by players between 20-24 at an average  $3.05\n",
      "There were 101 purchases totaling $293.0 by players between 25-29 at an average  $2.9\n",
      "There were 73 purchases totaling $214.0 by players between 30-34 at an average  $2.93\n",
      "There were 41 purchases totaling $147.67 by players between 35-39 at an average  $3.6\n",
      "There were 13 purchases totaling $38.24 by players over 40 at an average  $2.94\n"
     ]
    }
   ],
   "source": [
    "less10_purch_total=round(pf.loc[pf['Age Group']=='10 or less','Price'].sum(),2)\n",
    "less10_app=round(less10_purch_total/less10_count,2)\n",
    "between10to14_purch_total=round(pf.loc[pf['Age Group']=='10 to 14','Price'].sum(),2)\n",
    "between10to14_app=round(between10to14_purch_total/less10_count,2)\n",
    "between15to19_purch_total=round(pf.loc[pf['Age Group']=='15 to 19','Price'].sum(),2)\n",
    "between15to19_app=round(between15to19_purch_total/between15to19_count,2)\n",
    "between20to24_purch_total=round(pf.loc[pf['Age Group']=='20 to 24','Price'].sum(),2)\n",
    "between20to24_app=round(between20to24_purch_total/between20to24_count,2)\n",
    "between25to29_purch_total=round(pf.loc[pf['Age Group']=='25 to 29','Price'].sum(),2)\n",
    "between25to29_app=round(between25to29_purch_total/between25to29_count,2)\n",
    "between30to34_purch_total=round(pf.loc[pf['Age Group']=='30 to 34','Price'].sum(),2)\n",
    "between30to34_app=round(between30to34_purch_total/between30to34_count,2)\n",
    "between35to39_purch_total=round(pf.loc[pf['Age Group']=='35 to 39','Price'].sum(),2)\n",
    "between35to39_app=round(between35to39_purch_total/between35to39_count,2)\n",
    "over40_purch_total=round(pf.loc[pf['Age Group']=='Over 40','Price'].sum(),2)\n",
    "over40_app=round(over40_purch_total/over40_count,2)\n",
    "\n",
    "print(f'There were {less10_count} purchases totaling ${less10_purch_total} by players less than 10 at an average of ${less10_app}')\n",
    "print(f'There were {between10to14_count} purchases totaling ${between10to14_purch_total} by players between 10-14 at an average  ${between10to14_app}')\n",
    "print(f'There were {between15to19_count} purchases totaling ${between15to19_purch_total} by players between 15-19 at an average  ${between15to19_app}')\n",
    "print(f'There were {between20to24_count} purchases totaling ${between20to24_purch_total} by players between 20-24 at an average  ${between20to24_app}')\n",
    "print(f'There were {between25to29_count} purchases totaling ${between25to29_purch_total} by players between 25-29 at an average  ${between25to29_app}')\n",
    "print(f'There were {between30to34_count} purchases totaling ${between30to34_purch_total} by players between 30-34 at an average  ${between30to34_app}')\n",
    "print(f'There were {between35to39_count} purchases totaling ${between35to39_purch_total} by players between 35-39 at an average  ${between35to39_app}')\n",
    "print(f'There were {over40_count} purchases totaling ${over40_purch_total} by players over 40 at an average  ${over40_app}')"
   ]
  },
  {
   "cell_type": "code",
   "execution_count": 59,
   "metadata": {},
   "outputs": [
    {
     "data": {
      "text/plain": [
       "SN\n",
       "Adairialis76     2.280000\n",
       "Adastirin33      4.480000\n",
       "Aeda94           4.910000\n",
       "Aela59           4.320000\n",
       "Aelaria33        1.790000\n",
       "                   ...   \n",
       "Yathecal82       2.073333\n",
       "Yathedeu43       3.010000\n",
       "Yoishirrala98    4.580000\n",
       "Zhisrisu83       3.945000\n",
       "Zontibe81        2.676667\n",
       "Name: Price, Length: 576, dtype: float64"
      ]
     },
     "execution_count": 59,
     "metadata": {},
     "output_type": "execute_result"
    }
   ],
   "source": [
    "purch_by_age_mean=pf.groupby('Age Group').mean()\n",
    "purch_by_age_count=pf.groupby('Age Group').count()\n",
    "per_person_group=pf.groupby('SN').mean()\n",
    "per_person_group['Price']"
   ]
  },
  {
   "cell_type": "code",
   "execution_count": 60,
   "metadata": {},
   "outputs": [
    {
     "data": {
      "text/plain": [
       "Age Group\n",
       "10 or less     108.96\n",
       "10 to 14        50.95\n",
       "15 to 19       412.89\n",
       "20 to 24      1114.06\n",
       "25 to 29       293.00\n",
       "30 to 34       214.00\n",
       "35 to 39       147.67\n",
       "Over 40         38.24\n",
       "Name: Price, dtype: float64"
      ]
     },
     "execution_count": 60,
     "metadata": {},
     "output_type": "execute_result"
    }
   ],
   "source": [
    "purch_by_age_df['Price']"
   ]
  },
  {
   "cell_type": "markdown",
   "metadata": {},
   "source": [
    "## Top Spenders"
   ]
  },
  {
   "cell_type": "markdown",
   "metadata": {},
   "source": [
    "* Run basic calculations to obtain the results in the table below\n",
    "\n",
    "\n",
    "* Create a summary data frame to hold the results\n",
    "\n",
    "\n",
    "* Sort the total purchase value column in descending order\n",
    "\n",
    "\n",
    "* Optional: give the displayed data cleaner formatting\n",
    "\n",
    "\n",
    "* Display a preview of the summary data frame\n",
    "\n"
   ]
  },
  {
   "cell_type": "code",
   "execution_count": 8,
   "metadata": {},
   "outputs": [
    {
     "data": {
      "text/html": [
       "<div>\n",
       "<style scoped>\n",
       "    .dataframe tbody tr th:only-of-type {\n",
       "        vertical-align: middle;\n",
       "    }\n",
       "\n",
       "    .dataframe tbody tr th {\n",
       "        vertical-align: top;\n",
       "    }\n",
       "\n",
       "    .dataframe thead th {\n",
       "        text-align: right;\n",
       "    }\n",
       "</style>\n",
       "<table border=\"1\" class=\"dataframe\">\n",
       "  <thead>\n",
       "    <tr style=\"text-align: right;\">\n",
       "      <th></th>\n",
       "      <th>Purchase Count</th>\n",
       "      <th>Average Purchase Price</th>\n",
       "      <th>Total Purchase Value</th>\n",
       "    </tr>\n",
       "    <tr>\n",
       "      <th>SN</th>\n",
       "      <th></th>\n",
       "      <th></th>\n",
       "      <th></th>\n",
       "    </tr>\n",
       "  </thead>\n",
       "  <tbody>\n",
       "    <tr>\n",
       "      <th>Lisosia93</th>\n",
       "      <td>5</td>\n",
       "      <td>$3.79</td>\n",
       "      <td>$18.96</td>\n",
       "    </tr>\n",
       "    <tr>\n",
       "      <th>Idastidru52</th>\n",
       "      <td>4</td>\n",
       "      <td>$3.86</td>\n",
       "      <td>$15.45</td>\n",
       "    </tr>\n",
       "    <tr>\n",
       "      <th>Chamjask73</th>\n",
       "      <td>3</td>\n",
       "      <td>$4.61</td>\n",
       "      <td>$13.83</td>\n",
       "    </tr>\n",
       "    <tr>\n",
       "      <th>Iral74</th>\n",
       "      <td>4</td>\n",
       "      <td>$3.40</td>\n",
       "      <td>$13.62</td>\n",
       "    </tr>\n",
       "    <tr>\n",
       "      <th>Iskadarya95</th>\n",
       "      <td>3</td>\n",
       "      <td>$4.37</td>\n",
       "      <td>$13.10</td>\n",
       "    </tr>\n",
       "  </tbody>\n",
       "</table>\n",
       "</div>"
      ],
      "text/plain": [
       "             Purchase Count Average Purchase Price Total Purchase Value\n",
       "SN                                                                     \n",
       "Lisosia93                 5                  $3.79               $18.96\n",
       "Idastidru52               4                  $3.86               $15.45\n",
       "Chamjask73                3                  $4.61               $13.83\n",
       "Iral74                    4                  $3.40               $13.62\n",
       "Iskadarya95               3                  $4.37               $13.10"
      ]
     },
     "execution_count": 8,
     "metadata": {},
     "output_type": "execute_result"
    }
   ],
   "source": []
  },
  {
   "cell_type": "markdown",
   "metadata": {},
   "source": [
    "## Most Popular Items"
   ]
  },
  {
   "cell_type": "markdown",
   "metadata": {},
   "source": [
    "* Retrieve the Item ID, Item Name, and Item Price columns\n",
    "\n",
    "\n",
    "* Group by Item ID and Item Name. Perform calculations to obtain purchase count, average item price, and total purchase value\n",
    "\n",
    "\n",
    "* Create a summary data frame to hold the results\n",
    "\n",
    "\n",
    "* Sort the purchase count column in descending order\n",
    "\n",
    "\n",
    "* Optional: give the displayed data cleaner formatting\n",
    "\n",
    "\n",
    "* Display a preview of the summary data frame\n",
    "\n"
   ]
  },
  {
   "cell_type": "code",
   "execution_count": 9,
   "metadata": {},
   "outputs": [
    {
     "data": {
      "text/html": [
       "<div>\n",
       "<style scoped>\n",
       "    .dataframe tbody tr th:only-of-type {\n",
       "        vertical-align: middle;\n",
       "    }\n",
       "\n",
       "    .dataframe tbody tr th {\n",
       "        vertical-align: top;\n",
       "    }\n",
       "\n",
       "    .dataframe thead th {\n",
       "        text-align: right;\n",
       "    }\n",
       "</style>\n",
       "<table border=\"1\" class=\"dataframe\">\n",
       "  <thead>\n",
       "    <tr style=\"text-align: right;\">\n",
       "      <th></th>\n",
       "      <th></th>\n",
       "      <th>Purchase Count</th>\n",
       "      <th>Item Price</th>\n",
       "      <th>Total Purchase Value</th>\n",
       "    </tr>\n",
       "    <tr>\n",
       "      <th>Item ID</th>\n",
       "      <th>Item Name</th>\n",
       "      <th></th>\n",
       "      <th></th>\n",
       "      <th></th>\n",
       "    </tr>\n",
       "  </thead>\n",
       "  <tbody>\n",
       "    <tr>\n",
       "      <th>92</th>\n",
       "      <th>Final Critic</th>\n",
       "      <td>13</td>\n",
       "      <td>$4.61</td>\n",
       "      <td>$59.99</td>\n",
       "    </tr>\n",
       "    <tr>\n",
       "      <th>178</th>\n",
       "      <th>Oathbreaker, Last Hope of the Breaking Storm</th>\n",
       "      <td>12</td>\n",
       "      <td>$4.23</td>\n",
       "      <td>$50.76</td>\n",
       "    </tr>\n",
       "    <tr>\n",
       "      <th>145</th>\n",
       "      <th>Fiery Glass Crusader</th>\n",
       "      <td>9</td>\n",
       "      <td>$4.58</td>\n",
       "      <td>$41.22</td>\n",
       "    </tr>\n",
       "    <tr>\n",
       "      <th>132</th>\n",
       "      <th>Persuasion</th>\n",
       "      <td>9</td>\n",
       "      <td>$3.22</td>\n",
       "      <td>$28.99</td>\n",
       "    </tr>\n",
       "    <tr>\n",
       "      <th>108</th>\n",
       "      <th>Extraction, Quickblade Of Trembling Hands</th>\n",
       "      <td>9</td>\n",
       "      <td>$3.53</td>\n",
       "      <td>$31.77</td>\n",
       "    </tr>\n",
       "  </tbody>\n",
       "</table>\n",
       "</div>"
      ],
      "text/plain": [
       "                                                     Purchase Count  \\\n",
       "Item ID Item Name                                                     \n",
       "92      Final Critic                                             13   \n",
       "178     Oathbreaker, Last Hope of the Breaking Storm             12   \n",
       "145     Fiery Glass Crusader                                      9   \n",
       "132     Persuasion                                                9   \n",
       "108     Extraction, Quickblade Of Trembling Hands                 9   \n",
       "\n",
       "                                                     Item Price  \\\n",
       "Item ID Item Name                                                 \n",
       "92      Final Critic                                      $4.61   \n",
       "178     Oathbreaker, Last Hope of the Breaking Storm      $4.23   \n",
       "145     Fiery Glass Crusader                              $4.58   \n",
       "132     Persuasion                                        $3.22   \n",
       "108     Extraction, Quickblade Of Trembling Hands         $3.53   \n",
       "\n",
       "                                                     Total Purchase Value  \n",
       "Item ID Item Name                                                          \n",
       "92      Final Critic                                               $59.99  \n",
       "178     Oathbreaker, Last Hope of the Breaking Storm               $50.76  \n",
       "145     Fiery Glass Crusader                                       $41.22  \n",
       "132     Persuasion                                                 $28.99  \n",
       "108     Extraction, Quickblade Of Trembling Hands                  $31.77  "
      ]
     },
     "execution_count": 9,
     "metadata": {},
     "output_type": "execute_result"
    }
   ],
   "source": []
  },
  {
   "cell_type": "markdown",
   "metadata": {},
   "source": [
    "## Most Profitable Items"
   ]
  },
  {
   "cell_type": "markdown",
   "metadata": {},
   "source": [
    "* Sort the above table by total purchase value in descending order\n",
    "\n",
    "\n",
    "* Optional: give the displayed data cleaner formatting\n",
    "\n",
    "\n",
    "* Display a preview of the data frame\n",
    "\n"
   ]
  },
  {
   "cell_type": "code",
   "execution_count": 10,
   "metadata": {
    "scrolled": true
   },
   "outputs": [
    {
     "data": {
      "text/html": [
       "<div>\n",
       "<style scoped>\n",
       "    .dataframe tbody tr th:only-of-type {\n",
       "        vertical-align: middle;\n",
       "    }\n",
       "\n",
       "    .dataframe tbody tr th {\n",
       "        vertical-align: top;\n",
       "    }\n",
       "\n",
       "    .dataframe thead th {\n",
       "        text-align: right;\n",
       "    }\n",
       "</style>\n",
       "<table border=\"1\" class=\"dataframe\">\n",
       "  <thead>\n",
       "    <tr style=\"text-align: right;\">\n",
       "      <th></th>\n",
       "      <th></th>\n",
       "      <th>Purchase Count</th>\n",
       "      <th>Item Price</th>\n",
       "      <th>Total Purchase Value</th>\n",
       "    </tr>\n",
       "    <tr>\n",
       "      <th>Item ID</th>\n",
       "      <th>Item Name</th>\n",
       "      <th></th>\n",
       "      <th></th>\n",
       "      <th></th>\n",
       "    </tr>\n",
       "  </thead>\n",
       "  <tbody>\n",
       "    <tr>\n",
       "      <th>92</th>\n",
       "      <th>Final Critic</th>\n",
       "      <td>13</td>\n",
       "      <td>$4.61</td>\n",
       "      <td>$59.99</td>\n",
       "    </tr>\n",
       "    <tr>\n",
       "      <th>178</th>\n",
       "      <th>Oathbreaker, Last Hope of the Breaking Storm</th>\n",
       "      <td>12</td>\n",
       "      <td>$4.23</td>\n",
       "      <td>$50.76</td>\n",
       "    </tr>\n",
       "    <tr>\n",
       "      <th>82</th>\n",
       "      <th>Nirvana</th>\n",
       "      <td>9</td>\n",
       "      <td>$4.90</td>\n",
       "      <td>$44.10</td>\n",
       "    </tr>\n",
       "    <tr>\n",
       "      <th>145</th>\n",
       "      <th>Fiery Glass Crusader</th>\n",
       "      <td>9</td>\n",
       "      <td>$4.58</td>\n",
       "      <td>$41.22</td>\n",
       "    </tr>\n",
       "    <tr>\n",
       "      <th>103</th>\n",
       "      <th>Singed Scalpel</th>\n",
       "      <td>8</td>\n",
       "      <td>$4.35</td>\n",
       "      <td>$34.80</td>\n",
       "    </tr>\n",
       "  </tbody>\n",
       "</table>\n",
       "</div>"
      ],
      "text/plain": [
       "                                                     Purchase Count  \\\n",
       "Item ID Item Name                                                     \n",
       "92      Final Critic                                             13   \n",
       "178     Oathbreaker, Last Hope of the Breaking Storm             12   \n",
       "82      Nirvana                                                   9   \n",
       "145     Fiery Glass Crusader                                      9   \n",
       "103     Singed Scalpel                                            8   \n",
       "\n",
       "                                                     Item Price  \\\n",
       "Item ID Item Name                                                 \n",
       "92      Final Critic                                      $4.61   \n",
       "178     Oathbreaker, Last Hope of the Breaking Storm      $4.23   \n",
       "82      Nirvana                                           $4.90   \n",
       "145     Fiery Glass Crusader                              $4.58   \n",
       "103     Singed Scalpel                                    $4.35   \n",
       "\n",
       "                                                     Total Purchase Value  \n",
       "Item ID Item Name                                                          \n",
       "92      Final Critic                                               $59.99  \n",
       "178     Oathbreaker, Last Hope of the Breaking Storm               $50.76  \n",
       "82      Nirvana                                                    $44.10  \n",
       "145     Fiery Glass Crusader                                       $41.22  \n",
       "103     Singed Scalpel                                             $34.80  "
      ]
     },
     "execution_count": 10,
     "metadata": {},
     "output_type": "execute_result"
    }
   ],
   "source": []
  }
 ],
 "metadata": {
  "anaconda-cloud": {},
  "kernel_info": {
   "name": "python3"
  },
  "kernelspec": {
   "display_name": "Python 3 (ipykernel)",
   "language": "python",
   "name": "python3"
  },
  "language_info": {
   "codemirror_mode": {
    "name": "ipython",
    "version": 3
   },
   "file_extension": ".py",
   "mimetype": "text/x-python",
   "name": "python",
   "nbconvert_exporter": "python",
   "pygments_lexer": "ipython3",
   "version": "3.9.7"
  },
  "latex_envs": {
   "LaTeX_envs_menu_present": true,
   "autoclose": false,
   "autocomplete": true,
   "bibliofile": "biblio.bib",
   "cite_by": "apalike",
   "current_citInitial": 1,
   "eqLabelWithNumbers": true,
   "eqNumInitial": 1,
   "hotkeys": {
    "equation": "Ctrl-E",
    "itemize": "Ctrl-I"
   },
   "labels_anchors": false,
   "latex_user_defs": false,
   "report_style_numbering": false,
   "user_envs_cfg": false
  },
  "nteract": {
   "version": "0.2.0"
  }
 },
 "nbformat": 4,
 "nbformat_minor": 2
}
